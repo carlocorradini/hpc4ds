{
 "cells": [
  {
   "cell_type": "markdown",
   "metadata": {},
   "source": [
    "Notebook for elaboration of grid frames and comparison of C results among optimizations. First we may want to import the libraries for data manipulation."
   ]
  },
  {
   "cell_type": "code",
   "execution_count": 1,
   "metadata": {},
   "outputs": [],
   "source": [
    "import os\n",
    "import json\n",
    "import numpy as np\n",
    "import pandas as pd\n",
    "import math\n",
    "\n",
    "# Imports for the implementation of the gif\n",
    "import ffmpeg\n",
    "import matplotlib.pyplot as plt\n",
    "import matplotlib.animation as animation"
   ]
  },
  {
   "cell_type": "markdown",
   "metadata": {},
   "source": [
    "And define the C results paths."
   ]
  },
  {
   "cell_type": "code",
   "execution_count": 2,
   "metadata": {},
   "outputs": [],
   "source": [
    "BASE_RESULTS = './hpc/results/'"
   ]
  },
  {
   "cell_type": "markdown",
   "metadata": {},
   "source": [
    "Let's now get the files inside the base folder and list them"
   ]
  },
  {
   "cell_type": "code",
   "execution_count": 3,
   "metadata": {},
   "outputs": [
    {
     "name": "stdout",
     "output_type": "stream",
     "text": [
      "['.gitkeep', 'simulation_0_1.json', 'simulation_1_2.json', 'simulation_2_3.json', 'simulation_3_4.json']\n"
     ]
    }
   ],
   "source": [
    "files = os.listdir(BASE_RESULTS)\n",
    "print(files)"
   ]
  },
  {
   "cell_type": "markdown",
   "metadata": {},
   "source": [
    "Remove .gitkeep file"
   ]
  },
  {
   "cell_type": "code",
   "execution_count": 4,
   "metadata": {},
   "outputs": [
    {
     "name": "stdout",
     "output_type": "stream",
     "text": [
      "['simulation_0_1.json', 'simulation_1_2.json', 'simulation_2_3.json', 'simulation_3_4.json']\n"
     ]
    }
   ],
   "source": [
    "files.remove('.gitkeep')\n",
    "\n",
    "print(files)"
   ]
  },
  {
   "cell_type": "markdown",
   "metadata": {},
   "source": [
    "Amount of simulations that were performed:"
   ]
  },
  {
   "cell_type": "code",
   "execution_count": 5,
   "metadata": {},
   "outputs": [
    {
     "data": {
      "text/plain": [
       "4"
      ]
     },
     "execution_count": 5,
     "metadata": {},
     "output_type": "execute_result"
    }
   ],
   "source": [
    "len(files)"
   ]
  },
  {
   "cell_type": "markdown",
   "metadata": {},
   "source": [
    "For the moment we're considering only the first simulation"
   ]
  },
  {
   "cell_type": "code",
   "execution_count": 6,
   "metadata": {},
   "outputs": [
    {
     "name": "stdout",
     "output_type": "stream",
     "text": [
      "./hpc/results/simulation_0_1.json\n"
     ]
    }
   ],
   "source": [
    "sim = str(BASE_RESULTS + files[0])\n",
    "file = json.load(open(sim))\n",
    "\n",
    "print(sim)\n",
    "\n",
    "meta = file['metadata']"
   ]
  },
  {
   "cell_type": "markdown",
   "metadata": {},
   "source": [
    "Metadata structure:"
   ]
  },
  {
   "cell_type": "code",
   "execution_count": 7,
   "metadata": {},
   "outputs": [
    {
     "name": "stdout",
     "output_type": "stream",
     "text": [
      "{\n",
      "  \"time_step\": 0.01,\n",
      "  \"ticks\": 100,\n",
      "  \"world\": {\n",
      "    \"width\": 100,\n",
      "    \"height\": 100,\n",
      "    \"width_bounds\": 102,\n",
      "    \"height_bounds\": 102\n",
      "  },\n",
      "  \"fluid\": {\n",
      "    \"viscosity\": 0.0001,\n",
      "    \"density\": 10,\n",
      "    \"diffusion\": 0.0001\n",
      "  }\n",
      "}\n"
     ]
    }
   ],
   "source": [
    "print(json.dumps(meta, indent=2))"
   ]
  },
  {
   "cell_type": "markdown",
   "metadata": {},
   "source": [
    "Let's now get some info from the metadata"
   ]
  },
  {
   "cell_type": "code",
   "execution_count": 8,
   "metadata": {},
   "outputs": [
    {
     "name": "stdout",
     "output_type": "stream",
     "text": [
      "Ticks:  100\n",
      "Snapshots:  101\n",
      "Frame for each snapshot: 10404\n",
      "Width bounds:  102\n",
      "Height bounds:  102\n"
     ]
    }
   ],
   "source": [
    "TICKS = meta['ticks']\n",
    "FRAMES = TICKS + 1\n",
    "WIDTH_BOUNDS = meta['world']['width_bounds']\n",
    "HEIGHT_BOUNDS = meta['world']['height_bounds']\n",
    "FRAME_POINTS = WIDTH_BOUNDS * HEIGHT_BOUNDS\n",
    "\n",
    "if (FRAMES) != len(file['snapshots']):\n",
    "    raise ValueError(\"Exception - the amount of snapshots is not equal to the amount of ticks +1 reported in the metadata.\")\n",
    "for i in range(FRAMES):\n",
    "    if FRAME_POINTS != len(file['snapshots'][i]):\n",
    "        raise ValueError(f\"Exception - the amount of frames in snapshot #{i} is not equal to the one obtained from the metadata.\")\n",
    "\n",
    "print(\"Ticks: \", TICKS)\n",
    "print(\"Snapshots: \", FRAMES)\n",
    "print(\"Frame for each snapshot:\", FRAME_POINTS)\n",
    "print(\"Width bounds: \", WIDTH_BOUNDS)\n",
    "print(\"Height bounds: \", HEIGHT_BOUNDS)"
   ]
  },
  {
   "cell_type": "markdown",
   "metadata": {},
   "source": [
    "Now let's take a look at our snapshots in JSON format:"
   ]
  },
  {
   "cell_type": "code",
   "execution_count": 9,
   "metadata": {},
   "outputs": [
    {
     "name": "stdout",
     "output_type": "stream",
     "text": [
      "[\n",
      "  {\n",
      "    \"x\": 0,\n",
      "    \"y\": 0,\n",
      "    \"d\": 0,\n",
      "    \"u\": 0,\n",
      "    \"v\": 0\n",
      "  },\n",
      "  {\n",
      "    \"x\": 1,\n",
      "    \"y\": 0,\n",
      "    \"d\": 0,\n",
      "    \"u\": 5.7787240441626614e-36,\n",
      "    \"v\": -7.295992188774873e-36\n",
      "  },\n",
      "  {\n",
      "    \"x\": 2,\n",
      "    \"y\": 0,\n",
      "    \"d\": 2.082890446629427e-78,\n",
      "    \"u\": 2.353535014722462e-34,\n",
      "    \"v\": -2.9367978053318215e-34\n",
      "  },\n",
      "  {\n",
      "    \"x\": 3,\n",
      "    \"y\": 0,\n",
      "    \"d\": 6.037978960094614e-76,\n",
      "    \"u\": 9.03789832337379e-33,\n",
      "    \"v\": -1.1546663951230995e-32\n",
      "  }\n",
      "]\n"
     ]
    }
   ],
   "source": [
    "print(json.dumps(file['snapshots'][2][:4], indent=2))"
   ]
  },
  {
   "cell_type": "markdown",
   "metadata": {},
   "source": [
    "Now let's extract our data and save it in a list of DataFrames, where each DataFrame will correspond to a snapshot at a certain time step of the simulation."
   ]
  },
  {
   "cell_type": "code",
   "execution_count": 10,
   "metadata": {},
   "outputs": [],
   "source": [
    "data = []\n",
    "for i in range(FRAMES):\n",
    "    data.append(pd.DataFrame(file[\"snapshots\"][i]))"
   ]
  },
  {
   "cell_type": "markdown",
   "metadata": {},
   "source": [
    "And check the structure of a single frame with x and y positions of the cell, d as density, u as force along the x dimension and v as force along the y."
   ]
  },
  {
   "cell_type": "code",
   "execution_count": 11,
   "metadata": {},
   "outputs": [
    {
     "data": {
      "text/html": [
       "<div>\n",
       "<style scoped>\n",
       "    .dataframe tbody tr th:only-of-type {\n",
       "        vertical-align: middle;\n",
       "    }\n",
       "\n",
       "    .dataframe tbody tr th {\n",
       "        vertical-align: top;\n",
       "    }\n",
       "\n",
       "    .dataframe thead th {\n",
       "        text-align: right;\n",
       "    }\n",
       "</style>\n",
       "<table border=\"1\" class=\"dataframe\">\n",
       "  <thead>\n",
       "    <tr style=\"text-align: right;\">\n",
       "      <th></th>\n",
       "      <th>x</th>\n",
       "      <th>y</th>\n",
       "      <th>d</th>\n",
       "      <th>u</th>\n",
       "      <th>v</th>\n",
       "    </tr>\n",
       "  </thead>\n",
       "  <tbody>\n",
       "    <tr>\n",
       "      <th>0</th>\n",
       "      <td>0</td>\n",
       "      <td>0</td>\n",
       "      <td>3.118619e-56</td>\n",
       "      <td>0.000000</td>\n",
       "      <td>0.000000</td>\n",
       "    </tr>\n",
       "    <tr>\n",
       "      <th>1</th>\n",
       "      <td>1</td>\n",
       "      <td>0</td>\n",
       "      <td>3.118619e-56</td>\n",
       "      <td>0.000258</td>\n",
       "      <td>-0.000268</td>\n",
       "    </tr>\n",
       "    <tr>\n",
       "      <th>2</th>\n",
       "      <td>2</td>\n",
       "      <td>0</td>\n",
       "      <td>1.482880e-54</td>\n",
       "      <td>0.000483</td>\n",
       "      <td>-0.000268</td>\n",
       "    </tr>\n",
       "    <tr>\n",
       "      <th>3</th>\n",
       "      <td>3</td>\n",
       "      <td>0</td>\n",
       "      <td>7.102549e-53</td>\n",
       "      <td>0.000629</td>\n",
       "      <td>-0.000268</td>\n",
       "    </tr>\n",
       "    <tr>\n",
       "      <th>4</th>\n",
       "      <td>4</td>\n",
       "      <td>0</td>\n",
       "      <td>3.354285e-51</td>\n",
       "      <td>0.000838</td>\n",
       "      <td>-0.000269</td>\n",
       "    </tr>\n",
       "  </tbody>\n",
       "</table>\n",
       "</div>"
      ],
      "text/plain": [
       "   x  y             d         u         v\n",
       "0  0  0  3.118619e-56  0.000000  0.000000\n",
       "1  1  0  3.118619e-56  0.000258 -0.000268\n",
       "2  2  0  1.482880e-54  0.000483 -0.000268\n",
       "3  3  0  7.102549e-53  0.000629 -0.000268\n",
       "4  4  0  3.354285e-51  0.000838 -0.000269"
      ]
     },
     "execution_count": 11,
     "metadata": {},
     "output_type": "execute_result"
    }
   ],
   "source": [
    "data[45].head()"
   ]
  },
  {
   "cell_type": "markdown",
   "metadata": {},
   "source": [
    "Let's now pre-process the data in order to normalize values up to 255 to be used in the graphic visualization phase."
   ]
  },
  {
   "cell_type": "code",
   "execution_count": 12,
   "metadata": {},
   "outputs": [],
   "source": [
    "plot_data = []\n",
    "\n",
    "for i in range(len(data)):\n",
    "    for idx, x in enumerate(data[i].d):\n",
    "        \n",
    "        tmp = np.int32(x*255)\n",
    "        if tmp>=255:\n",
    "            tmp = 255\n",
    "\n",
    "        data[i].at[idx, 'd'] = tmp\n",
    "\n",
    "for i in range(FRAMES):\n",
    "    frame = {\"x\": data[i].x[:FRAME_POINTS], \"y\": data[i].y[:FRAME_POINTS], \"density\": data[i].d[:FRAME_POINTS]}\n",
    "    plot_data.append(frame)"
   ]
  },
  {
   "cell_type": "markdown",
   "metadata": {},
   "source": [
    "And now move to the gif generation."
   ]
  },
  {
   "cell_type": "code",
   "execution_count": 13,
   "metadata": {},
   "outputs": [
    {
     "data": {
      "image/png": "[encoded data removed]",
      "text/plain": [
       "<Figure size 720x720 with 1 Axes>"
      ]
     },
     "metadata": {
      "needs_background": "light"
     },
     "output_type": "display_data"
    },
    {
     "name": "stderr",
     "output_type": "stream",
     "text": [
      "MovieWriter ffmpeg unavailable; using Pillow instead.\n"
     ]
    }
   ],
   "source": [
    "def main():\n",
    "    color_data = plot_data[0]['density']  #np.random.random((FRAMES, FRAME_POINTS))  # THIS INSTEAD DOES SOMETHING SIMILAR\n",
    "    x, y, c = plot_data[0]['x'], plot_data[0]['y'], plot_data[0]['density']\n",
    "\n",
    "    fig = plt.figure(figsize=(10, 10))\n",
    "    scat = plt.scatter(x, y, c=c, s=100)\n",
    "\n",
    "    ani = animation.FuncAnimation(fig, update_plot, frames=range(FRAMES),\n",
    "                                  fargs=(color_data, scat))\n",
    "    plt.show()\n",
    "    ani.save('animation.gif')\n",
    "\n",
    "def update_plot(i, custom_data, scat):\n",
    "    scat.set_offsets(np.c_[plot_data[i]['x'], plot_data[i]['y']])\n",
    "    scat.set_array(plot_data[i]['density'])\n",
    "    return scat,\n",
    "\n",
    "main()"
   ]
  }
 ],
 "metadata": {
  "kernelspec": {
   "display_name": "Python 3",
   "language": "python",
   "name": "python3"
  },
  "language_info": {
   "codemirror_mode": {
    "name": "ipython",
    "version": 3
   },
   "file_extension": ".py",
   "mimetype": "text/x-python",
   "name": "python",
   "nbconvert_exporter": "python",
   "pygments_lexer": "ipython3",
   "version": "3.9.6"
  }
 },
 "nbformat": 4,
 "nbformat_minor": 2
}
