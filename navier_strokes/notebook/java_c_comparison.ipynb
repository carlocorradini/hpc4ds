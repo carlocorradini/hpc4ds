{
 "cells": [
  {
   "cell_type": "markdown",
   "metadata": {},
   "source": [
    "Notebook for elaboration of grid frames and comparison of Java and C results. First we may want to import the libraries for data manipulation."
   ]
  },
  {
   "cell_type": "code",
   "execution_count": 18,
   "metadata": {},
   "outputs": [],
   "source": [
    "import pandas as pd\n",
    "import math"
   ]
  },
  {
   "cell_type": "markdown",
   "metadata": {},
   "source": [
    "And define the Java and C output.txt paths."
   ]
  },
  {
   "cell_type": "code",
   "execution_count": 19,
   "metadata": {},
   "outputs": [],
   "source": [
    "JAVA_OUT_PATH = '../ns_java/output.txt'\n",
    "C_OUT_PATH = '../src/output.txt'"
   ]
  },
  {
   "cell_type": "markdown",
   "metadata": {},
   "source": [
    "Then we're going to define the amount of points per frame, previously defined in the C program, and read with Pandas the csv output."
   ]
  },
  {
   "cell_type": "code",
   "execution_count": 20,
   "metadata": {},
   "outputs": [],
   "source": [
    "SQUARE_BOUNDS = 102\n",
    "FRAME_POINTS = 10404\n",
    "\n",
    "raw_C = []\n",
    "C_data = []\n",
    "raw_C = pd.read_csv(C_OUT_PATH, names=['x', 'y', 'd'])"
   ]
  },
  {
   "cell_type": "markdown",
   "metadata": {},
   "source": [
    "Size of raw output.txt:"
   ]
  },
  {
   "cell_type": "code",
   "execution_count": 21,
   "metadata": {},
   "outputs": [
    {
     "name": "stdout",
     "output_type": "stream",
     "text": [
      "530604\n"
     ]
    }
   ],
   "source": [
    "print(len(raw_C))"
   ]
  },
  {
   "cell_type": "markdown",
   "metadata": {},
   "source": [
    "For consistency, we're also picking up the Java application output and checking whether it corresponds to the C one. This has to be done only if parameters were equal between the simulations."
   ]
  },
  {
   "cell_type": "code",
   "execution_count": 23,
   "metadata": {},
   "outputs": [],
   "source": [
    "EQUAL_PARAMETERS = True\n",
    "raw_Java = []\n",
    "\n",
    "if EQUAL_PARAMETERS:\n",
    "    raw_Java = pd.read_csv(JAVA_OUT_PATH, names=['x', 'y', 'd'])\n",
    "\n",
    "# Now let's do the comparison\n",
    "start = 0\n",
    "end = FRAME_POINTS\n",
    "i = 0\n",
    "\n",
    "tmp = pd.DataFrame(columns=['x', 'y', 'd'])\n",
    "\n",
    "# Let's sort the C output file and save it in tmp\n",
    "while (start != len(raw_C)):\n",
    "    \n",
    "    # Take a copy of the first frame\n",
    "    chunk = raw_C.loc[start:(end-1)].copy()\n",
    "    \n",
    "    # Sort it first along the y column and then along the x one\n",
    "    chunk = chunk.sort_values(['y', 'x'], ascending=[True, True])\n",
    "    \n",
    "    # Append it to the temporary dataframe\n",
    "    tmp = tmp.append(chunk, ignore_index = True)\n",
    "   \n",
    "    start = end\n",
    "    end += FRAME_POINTS\n",
    "\n",
    "tmp = tmp.reset_index(drop=True)\n",
    "\n",
    "start = 0\n",
    "end = FRAME_POINTS\n",
    "\n",
    "# Control done for the first frame to ensure correctness between Java and C application - SLOW!!\n",
    "while (i != FRAME_POINTS):\n",
    "    \n",
    "    java_x = tmp.x[i]\n",
    "    java_y = tmp.y[i]\n",
    "    \n",
    "    # This call will take a while\n",
    "    #java_idx = raw_Java.loc[(raw_Java['x'] == java_x) & (raw_Java['y'] == java_y) & (start <= raw_Java.index) & (raw_Java.index < end)].index[0]\n",
    "    java_idx = i\n",
    "    \n",
    "    if not (raw_Java.d[java_idx] == tmp.d[i]):\n",
    "        print(\"ERRORE\")\n",
    "        print(\"C index: \", i)\n",
    "        print(\"Java index: \", java_idx)\n",
    "        print(tmp.loc[i])\n",
    "        print(raw_Java.loc[java_idx])\n",
    "        print('\\n')\n",
    "        \n",
    "    i += 1\n",
    "\n",
    "# There should be a print only in case of errors.\n",
    "\n",
    "# This shows the differencies(if any) between the two dataframes\n",
    "print(tmp.compare(raw_Java))\n",
    "\n",
    "# True if they're equal\n",
    "tmp.equals(raw_Java)"
   ]
  }
 ],
 "metadata": {
  "kernelspec": {
   "display_name": "Python 3",
   "language": "python",
   "name": "python3"
  },
  "language_info": {
   "codemirror_mode": {
    "name": "ipython",
    "version": 3
   },
   "file_extension": ".py",
   "mimetype": "text/x-python",
   "name": "python",
   "nbconvert_exporter": "python",
   "pygments_lexer": "ipython3",
   "version": "3.8.10"
  }
 },
 "nbformat": 4,
 "nbformat_minor": 2
}
