{
 "cells": [
  {
   "cell_type": "markdown",
   "metadata": {},
   "source": [
    "Notebook for elaboration of grid frames and comparison of Java and C results. First we may want to import the libraries for data manipulation."
   ]
  },
  {
   "cell_type": "code",
   "execution_count": 1,
   "metadata": {},
   "outputs": [],
   "source": [
    "import pandas as pd\n",
    "import math\n",
    "\n",
    "# Imports for the first implementation of the gif\n",
    "import numpy as np\n",
    "import matplotlib.pyplot as plt\n",
    "import matplotlib.animation as animation\n",
    "\n",
    "# Imports for the second implementation of the gif\n",
    "#from matplotlib import cm\n",
    "#from celluloid import Camera\n",
    "#import sys\n",
    "#import seaborn as sns"
   ]
  },
  {
   "cell_type": "markdown",
   "metadata": {},
   "source": [
    "And define the Java and C output.txt paths."
   ]
  },
  {
   "cell_type": "code",
   "execution_count": 2,
   "metadata": {},
   "outputs": [],
   "source": [
    "JAVA_OUT_PATH = './ns_java/output.txt'\n",
    "C_OUT_PATH = './src/output.txt'"
   ]
  },
  {
   "cell_type": "markdown",
   "metadata": {},
   "source": [
    "Then we're going to define the amount of points per frame, previously defined in the C program, and read with Pandas the csv output."
   ]
  },
  {
   "cell_type": "code",
   "execution_count": 3,
   "metadata": {},
   "outputs": [],
   "source": [
    "SQUARE_BOUNDS = 102\n",
    "FRAME_POINTS = 10404\n",
    "\n",
    "raw_C = []\n",
    "C_data = []\n",
    "raw_C = pd.read_csv(C_OUT_PATH, names=['x', 'y', 'd'])"
   ]
  },
  {
   "cell_type": "markdown",
   "metadata": {},
   "source": [
    "Size of raw output.txt:"
   ]
  },
  {
   "cell_type": "code",
   "execution_count": 4,
   "metadata": {},
   "outputs": [
    {
     "name": "stdout",
     "output_type": "stream",
     "text": [
      "530604\n"
     ]
    }
   ],
   "source": [
    "print(len(raw_C))"
   ]
  },
  {
   "cell_type": "markdown",
   "metadata": {},
   "source": [
    "An insight in how the output file was written; x and y are the coordinates of each cell, while d is the relative density of that region."
   ]
  },
  {
   "cell_type": "code",
   "execution_count": 5,
   "metadata": {},
   "outputs": [
    {
     "data": {
      "text/html": [
       "<div>\n",
       "<style scoped>\n",
       "    .dataframe tbody tr th:only-of-type {\n",
       "        vertical-align: middle;\n",
       "    }\n",
       "\n",
       "    .dataframe tbody tr th {\n",
       "        vertical-align: top;\n",
       "    }\n",
       "\n",
       "    .dataframe thead th {\n",
       "        text-align: right;\n",
       "    }\n",
       "</style>\n",
       "<table border=\"1\" class=\"dataframe\">\n",
       "  <thead>\n",
       "    <tr style=\"text-align: right;\">\n",
       "      <th></th>\n",
       "      <th>x</th>\n",
       "      <th>y</th>\n",
       "      <th>d</th>\n",
       "    </tr>\n",
       "  </thead>\n",
       "  <tbody>\n",
       "    <tr>\n",
       "      <th>0</th>\n",
       "      <td>0</td>\n",
       "      <td>101</td>\n",
       "      <td>0</td>\n",
       "    </tr>\n",
       "    <tr>\n",
       "      <th>1</th>\n",
       "      <td>1</td>\n",
       "      <td>101</td>\n",
       "      <td>0</td>\n",
       "    </tr>\n",
       "    <tr>\n",
       "      <th>2</th>\n",
       "      <td>2</td>\n",
       "      <td>101</td>\n",
       "      <td>0</td>\n",
       "    </tr>\n",
       "    <tr>\n",
       "      <th>3</th>\n",
       "      <td>3</td>\n",
       "      <td>101</td>\n",
       "      <td>0</td>\n",
       "    </tr>\n",
       "    <tr>\n",
       "      <th>4</th>\n",
       "      <td>4</td>\n",
       "      <td>101</td>\n",
       "      <td>0</td>\n",
       "    </tr>\n",
       "  </tbody>\n",
       "</table>\n",
       "</div>"
      ],
      "text/plain": [
       "   x    y  d\n",
       "0  0  101  0\n",
       "1  1  101  0\n",
       "2  2  101  0\n",
       "3  3  101  0\n",
       "4  4  101  0"
      ]
     },
     "execution_count": 5,
     "metadata": {},
     "output_type": "execute_result"
    }
   ],
   "source": [
    "raw_C.head()"
   ]
  },
  {
   "cell_type": "markdown",
   "metadata": {},
   "source": [
    "For consistency, we're also picking up the Java application output and checking whether it corresponds to the C one. This has to be done only if parameters were equal between the simulations."
   ]
  },
  {
   "cell_type": "code",
   "execution_count": 6,
   "metadata": {},
   "outputs": [
    {
     "name": "stdout",
     "output_type": "stream",
     "text": [
      "ERRORE\n",
      "C index:  6161\n",
      "Java index:  6161\n",
      "x     41\n",
      "y     60\n",
      "d    255\n",
      "Name: 6161, dtype: object\n",
      "x    41\n",
      "y    60\n",
      "d     0\n",
      "Name: 6161, dtype: int64\n",
      "\n",
      "\n",
      "ERRORE\n",
      "C index:  8277\n",
      "Java index:  8277\n",
      "x     15\n",
      "y     81\n",
      "d    255\n",
      "Name: 8277, dtype: object\n",
      "x    15\n",
      "y    81\n",
      "d     0\n",
      "Name: 8277, dtype: int64\n",
      "\n",
      "\n",
      "ERRORE\n",
      "C index:  8327\n",
      "Java index:  8327\n",
      "x     65\n",
      "y     81\n",
      "d    255\n",
      "Name: 8327, dtype: object\n",
      "x    65\n",
      "y    81\n",
      "d     0\n",
      "Name: 8327, dtype: int64\n",
      "\n",
      "\n",
      "          d      \n",
      "       self other\n",
      "6161    255   0.0\n",
      "8277    255   0.0\n",
      "8327    255   0.0\n",
      "10730     0  23.0\n",
      "10833     0  23.0\n",
      "...     ...   ...\n",
      "530418    0  30.0\n",
      "530419    0  11.0\n",
      "530520    0  48.0\n",
      "530521    0  46.0\n",
      "530522    0   5.0\n",
      "\n",
      "[26356 rows x 2 columns]\n"
     ]
    },
    {
     "data": {
      "text/plain": [
       "False"
      ]
     },
     "execution_count": 6,
     "metadata": {},
     "output_type": "execute_result"
    }
   ],
   "source": [
    "EQUAL_PARAMETERS = True\n",
    "raw_Java = []\n",
    "\n",
    "if EQUAL_PARAMETERS:\n",
    "    raw_Java = pd.read_csv(JAVA_OUT_PATH, names=['x', 'y', 'd'])\n",
    "\n",
    "# Now let's do the comparison\n",
    "start = 0\n",
    "end = FRAME_POINTS\n",
    "i = 0\n",
    "\n",
    "tmp = pd.DataFrame(columns=['x', 'y', 'd'])\n",
    "\n",
    "# Let's sort the C output file and save it in tmp\n",
    "while (start != len(raw_C)):\n",
    "    \n",
    "    # Take a copy of the first frame\n",
    "    chunk = raw_C.loc[start:(end-1)].copy()\n",
    "    \n",
    "    # Sort it first along the y column and then along the x one\n",
    "    chunk = chunk.sort_values(['y', 'x'], ascending=[True, True])\n",
    "    \n",
    "    # Append it to the temporary dataframe\n",
    "    tmp = tmp.append(chunk, ignore_index = True)\n",
    "   \n",
    "    start = end\n",
    "    end += FRAME_POINTS\n",
    "\n",
    "tmp = tmp.reset_index(drop=True)\n",
    "\n",
    "start = 0\n",
    "end = FRAME_POINTS\n",
    "\n",
    "# Control done for the first frame to ensure correctness between Java and C application - SLOW!!\n",
    "while (i != FRAME_POINTS):\n",
    "    \n",
    "    java_x = tmp.x[i]\n",
    "    java_y = tmp.y[i]\n",
    "    \n",
    "    # This call will take a while\n",
    "    #java_idx = raw_Java.loc[(raw_Java['x'] == java_x) & (raw_Java['y'] == java_y) & (start <= raw_Java.index) & (raw_Java.index < end)].index[0]\n",
    "    java_idx = i\n",
    "    \n",
    "    if not (raw_Java.d[java_idx] == tmp.d[i]):\n",
    "        print(\"ERRORE\")\n",
    "        print(\"C index: \", i)\n",
    "        print(\"Java index: \", java_idx)\n",
    "        print(tmp.loc[i])\n",
    "        print(raw_Java.loc[java_idx])\n",
    "        print('\\n')\n",
    "        \n",
    "    i += 1\n",
    "\n",
    "# There should be a print only in case of errors.\n",
    "\n",
    "# This shows the differencies(if any) between the two dataframes\n",
    "print(tmp.compare(raw_Java))\n",
    "\n",
    "# True if they're equal\n",
    "tmp.equals(raw_Java)"
   ]
  },
  {
   "cell_type": "markdown",
   "metadata": {},
   "source": [
    "Now let's put the raw data into the structure we'll be using to plot the frames; with FRAME_POINTS we can divide the output into single frames."
   ]
  },
  {
   "cell_type": "code",
   "execution_count": 7,
   "metadata": {},
   "outputs": [],
   "source": [
    "start = 0\n",
    "end = FRAME_POINTS\n",
    "\n",
    "while (start != len(raw_C)):\n",
    "    frame = {\"x\": raw_C.x[start:end], \"y\": raw_C.y[start:end], \"density\": raw_C.d[start:end]}\n",
    "    C_data.append(frame)\n",
    "    start = end\n",
    "    end += FRAME_POINTS"
   ]
  },
  {
   "cell_type": "markdown",
   "metadata": {},
   "source": [
    "Amount of frames:"
   ]
  },
  {
   "cell_type": "code",
   "execution_count": 8,
   "metadata": {},
   "outputs": [
    {
     "name": "stdout",
     "output_type": "stream",
     "text": [
      "51\n"
     ]
    }
   ],
   "source": [
    "print(len(C_data))"
   ]
  },
  {
   "cell_type": "markdown",
   "metadata": {},
   "source": [
    "This number includes the initial grid state plus the n ticks of the simulation."
   ]
  },
  {
   "cell_type": "markdown",
   "metadata": {},
   "source": [
    "Points per frame:"
   ]
  },
  {
   "cell_type": "code",
   "execution_count": 9,
   "metadata": {},
   "outputs": [
    {
     "name": "stdout",
     "output_type": "stream",
     "text": [
      "10404\n"
     ]
    }
   ],
   "source": [
    "print(len(C_data[0]['x']))"
   ]
  },
  {
   "cell_type": "code",
   "execution_count": 10,
   "metadata": {},
   "outputs": [
    {
     "data": {
      "image/png": "[encoded data removed]",
      "text/plain": [
       "<Figure size 720x720 with 1 Axes>"
      ]
     },
     "metadata": {
      "needs_background": "light"
     },
     "output_type": "display_data"
    },
    {
     "name": "stderr",
     "output_type": "stream",
     "text": [
      "MovieWriter ffmpeg unavailable; using Pillow instead.\n"
     ]
    },
    {
     "data": {
      "text/plain": [
       "\"\\n# NOT-SO-GOOD VERSION\\nnumpoints = 6724\\npoints = [data[0]['x'], data[0]['y']]\\ncolors = data[0]['density']\\ncamera = Camera(plt.figure())\\nfor i in range(len(data)):\\n    points = [data[i]['x'], data[i]['y']]\\n    colors = data[i]['density']\\n    plt.scatter(*points, c=colors, s=100)\\n    camera.snap()\\nanim = camera.animate(blit=True)\\nanim.save('scatter.gif')\\n\""
      ]
     },
     "execution_count": 10,
     "metadata": {},
     "output_type": "execute_result"
    }
   ],
   "source": [
    "'''\n",
    "# SEQUENTIAL PLOT\n",
    "for i in range(len(data)):\n",
    "    fig, ax = plt.subplots(figsize=(10, 10))\n",
    "\n",
    "    ax.scatter(data[i]['x'], data[i]['y'], c=data[i]['density'])\n",
    "    ax.set_aspect(1)\n",
    "\n",
    "    plt.show()\n",
    "'''\n",
    "\n",
    "# BETTER VERSION SO FAR\n",
    "def main():\n",
    "    numframes = 51   # len(data)\n",
    "    numpoints = 6724\n",
    "    color_data = C_data[0]['density']  #np.random.random((numframes, numpoints))  # THIS INSTEAD DOES SOMETHING SIMILAR\n",
    "    x, y, c = C_data[0]['x'], C_data[0]['y'], C_data[0]['density']\n",
    "\n",
    "    fig = plt.figure(figsize=(10, 10))\n",
    "    scat = plt.scatter(x, y, c=c, s=100)\n",
    "\n",
    "    ani = animation.FuncAnimation(fig, update_plot, frames=range(numframes),\n",
    "                                  fargs=(color_data, scat))\n",
    "    plt.show()\n",
    "    ani.save('animation.gif')\n",
    "\n",
    "def update_plot(i, custom_data, scat):\n",
    "    scat.set_offsets(np.c_[C_data[i]['x'], C_data[i]['y']])\n",
    "    scat.set_array(C_data[i]['density'])\n",
    "    return scat,\n",
    "\n",
    "main()\n",
    "\n",
    "\n",
    "'''\n",
    "# NOT-SO-GOOD VERSION\n",
    "numpoints = 6724\n",
    "points = [data[0]['x'], data[0]['y']]\n",
    "colors = data[0]['density']\n",
    "camera = Camera(plt.figure())\n",
    "for i in range(len(data)):\n",
    "    points = [data[i]['x'], data[i]['y']]\n",
    "    colors = data[i]['density']\n",
    "    plt.scatter(*points, c=colors, s=100)\n",
    "    camera.snap()\n",
    "anim = camera.animate(blit=True)\n",
    "anim.save('scatter.gif')\n",
    "'''"
   ]
  }
 ],
 "metadata": {
  "kernelspec": {
   "display_name": "Python 3",
   "language": "python",
   "name": "python3"
  },
  "language_info": {
   "codemirror_mode": {
    "name": "ipython",
    "version": 3
   },
   "file_extension": ".py",
   "mimetype": "text/x-python",
   "name": "python",
   "nbconvert_exporter": "python",
   "pygments_lexer": "ipython3",
   "version": "3.8.8"
  }
 },
 "nbformat": 4,
 "nbformat_minor": 2
}
