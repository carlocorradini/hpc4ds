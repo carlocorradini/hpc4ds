{
 "cells": [
  {
   "cell_type": "markdown",
   "metadata": {},
   "source": [
    "Notebook for elaboration of grid frames and comparison of Java and C results. First we may want to import the libraries for data manipulation."
   ]
  },
  {
   "cell_type": "code",
   "execution_count": 1,
   "metadata": {},
   "outputs": [],
   "source": [
    "import pandas as pd\n",
    "import math\n",
    "\n",
    "# Imports for the first implementation of the gif\n",
    "import numpy as np\n",
    "import matplotlib.pyplot as plt\n",
    "import matplotlib.animation as animation\n",
    "\n",
    "# Imports for the second implementation of the gif\n",
    "#from matplotlib import cm\n",
    "#from celluloid import Camera\n",
    "#import sys\n",
    "#import seaborn as sns"
   ]
  },
  {
   "cell_type": "markdown",
   "metadata": {},
   "source": [
    "And define the Java and C output.txt paths."
   ]
  },
  {
   "cell_type": "code",
   "execution_count": 2,
   "metadata": {},
   "outputs": [],
   "source": [
    "JAVA_OUT_PATH = '../ns_java/output.txt'\n",
    "C_OUT_PATH = './output.txt'"
   ]
  },
  {
   "cell_type": "markdown",
   "metadata": {},
   "source": [
    "Then we're going to define the amount of points per frame, previously defined in the C program, and read with Pandas the csv output."
   ]
  },
  {
   "cell_type": "code",
   "execution_count": 3,
   "metadata": {},
   "outputs": [],
   "source": [
    "FRAME_POINTS = 6724\n",
    "\n",
    "raw_C = []\n",
    "C_data = []\n",
    "raw_C = pd.read_csv(C_OUT_PATH, names=['x', 'y', 'd'])"
   ]
  },
  {
   "cell_type": "markdown",
   "metadata": {},
   "source": [
    "Size of raw output.txt:"
   ]
  },
  {
   "cell_type": "code",
   "execution_count": 4,
   "metadata": {},
   "outputs": [
    {
     "name": "stdout",
     "output_type": "stream",
     "text": [
      "342924\n"
     ]
    }
   ],
   "source": [
    "print(len(raw_C))"
   ]
  },
  {
   "cell_type": "markdown",
   "metadata": {},
   "source": [
    "An insight in how the output file was written; x and y are the coordinates of each cell, while d is the relative density of that region."
   ]
  },
  {
   "cell_type": "code",
   "execution_count": 5,
   "metadata": {},
   "outputs": [
    {
     "data": {
      "text/html": [
       "<div>\n",
       "<style scoped>\n",
       "    .dataframe tbody tr th:only-of-type {\n",
       "        vertical-align: middle;\n",
       "    }\n",
       "\n",
       "    .dataframe tbody tr th {\n",
       "        vertical-align: top;\n",
       "    }\n",
       "\n",
       "    .dataframe thead th {\n",
       "        text-align: right;\n",
       "    }\n",
       "</style>\n",
       "<table border=\"1\" class=\"dataframe\">\n",
       "  <thead>\n",
       "    <tr style=\"text-align: right;\">\n",
       "      <th></th>\n",
       "      <th>x</th>\n",
       "      <th>y</th>\n",
       "      <th>d</th>\n",
       "    </tr>\n",
       "  </thead>\n",
       "  <tbody>\n",
       "    <tr>\n",
       "      <th>0</th>\n",
       "      <td>0</td>\n",
       "      <td>0</td>\n",
       "      <td>0</td>\n",
       "    </tr>\n",
       "    <tr>\n",
       "      <th>1</th>\n",
       "      <td>1</td>\n",
       "      <td>0</td>\n",
       "      <td>0</td>\n",
       "    </tr>\n",
       "    <tr>\n",
       "      <th>2</th>\n",
       "      <td>2</td>\n",
       "      <td>0</td>\n",
       "      <td>0</td>\n",
       "    </tr>\n",
       "    <tr>\n",
       "      <th>3</th>\n",
       "      <td>3</td>\n",
       "      <td>0</td>\n",
       "      <td>0</td>\n",
       "    </tr>\n",
       "    <tr>\n",
       "      <th>4</th>\n",
       "      <td>4</td>\n",
       "      <td>0</td>\n",
       "      <td>0</td>\n",
       "    </tr>\n",
       "  </tbody>\n",
       "</table>\n",
       "</div>"
      ],
      "text/plain": [
       "   x  y  d\n",
       "0  0  0  0\n",
       "1  1  0  0\n",
       "2  2  0  0\n",
       "3  3  0  0\n",
       "4  4  0  0"
      ]
     },
     "execution_count": 5,
     "metadata": {},
     "output_type": "execute_result"
    }
   ],
   "source": [
    "raw_C.head()"
   ]
  },
  {
   "cell_type": "markdown",
   "metadata": {},
   "source": [
    "For consistency, we're also picking up the Java application output and checking whether it corresponds to the C one. This has to be done only if parameters were equal between the simulations."
   ]
  },
  {
   "cell_type": "code",
   "execution_count": 12,
   "metadata": {},
   "outputs": [
    {
     "name": "stdout",
     "output_type": "stream",
     "text": [
      "6724\n",
      "13448\n",
      "20172\n",
      "26896\n",
      "33620\n",
      "40344\n",
      "47068\n",
      "53792\n",
      "60516\n",
      "67240\n",
      "73964\n",
      "80688\n",
      "87412\n",
      "94136\n",
      "100860\n",
      "107584\n",
      "114308\n",
      "121032\n",
      "127756\n",
      "134480\n",
      "141204\n",
      "147928\n",
      "154652\n",
      "161376\n",
      "168100\n",
      "174824\n",
      "181548\n",
      "188272\n",
      "194996\n",
      "201720\n",
      "208444\n",
      "215168\n",
      "221892\n",
      "228616\n",
      "235340\n",
      "242064\n",
      "248788\n",
      "255512\n",
      "262236\n",
      "268960\n",
      "275684\n",
      "282408\n",
      "289132\n",
      "295856\n",
      "302580\n",
      "309304\n",
      "316028\n",
      "322752\n",
      "329476\n",
      "336200\n",
      "342924\n",
      "            d      \n",
      "         self other\n",
      "3321    255.0   0.0\n",
      "5017    255.0   0.0\n",
      "5067    255.0   0.0\n",
      "8630      0.0  15.0\n",
      "8713      0.0  15.0\n",
      "...       ...   ...\n",
      "342655    0.0   4.0\n",
      "342736    0.0   1.0\n",
      "342737    0.0   2.0\n",
      "342738    0.0   1.0\n",
      "342819    0.0   1.0\n",
      "\n",
      "[16576 rows x 2 columns]\n"
     ]
    },
    {
     "data": {
      "text/plain": [
       "False"
      ]
     },
     "execution_count": 12,
     "metadata": {},
     "output_type": "execute_result"
    }
   ],
   "source": [
    "EQUAL_PARAMETERS = True\n",
    "raw_Java = []\n",
    "\n",
    "if EQUAL_PARAMETERS:\n",
    "    raw_Java = pd.read_csv(JAVA_OUT_PATH, names=['x', 'y', 'd'])\n",
    "    \n",
    "# DOES NOT WORK FOR NOW, Y VALUES FOR THE C OUTPUT ARE INVERTED W.R.T. THE JAVA ONES\n",
    "# REVERT THEM IN ANOTHER STRUCTURE AND USE THAT FOR THE COMPARISON\n",
    "\n",
    "# EDIT: SLOW AS HELL AND EVEN WRONG IN THE END\n",
    "\n",
    "# Now we're swapping density values to make the C ones correspond to the Java ones.\n",
    "# To do so, we iterate over the first half of each frame and swap the density values\n",
    "# with rows that have the same x and an y value equal to 82(the square boundary) minus\n",
    "# the current y, to find the exact same on the other side of the world.\n",
    "\n",
    "bounds = math.sqrt(FRAME_POINTS)\n",
    "start = 0\n",
    "end = FRAME_POINTS\n",
    "\n",
    "while (start != len(raw_C)):\n",
    "        \n",
    "    # Iterate over the first half of each frame\n",
    "    while (start < (end-FRAME_POINTS/2)):\n",
    "        this_x = raw_C.x[start]\n",
    "        this_y = raw_C.y[start]\n",
    "        this_d = raw_C.d[start]\n",
    "        \n",
    "        # Get the value on the other half of the frame                   -1 because from 82 we go to 81\n",
    "        tmp = raw_C.loc[(raw_C['x'] == this_x) & (raw_C['y'] == int((bounds-1)-this_y)) & (start < raw_C.index) & (raw_C.index < end)]\n",
    "        \n",
    "        # Save the actual density on the other half's cell\n",
    "        raw_C.loc[tmp.index[0]]['d'] = this_d\n",
    "        \n",
    "        # Save the other half's cell density to the actual density\n",
    "        raw_C.d[start] = tmp.d[tmp.index[0]]\n",
    "        \n",
    "        start += 1\n",
    "    \n",
    "    start = end\n",
    "    end += FRAME_POINTS\n",
    "    print(start)\n",
    "\n",
    "# This shows the differencies(if any) between the two dataframes\n",
    "print(raw_C.compare(raw_Java))\n",
    "\n",
    "# True if they're equal\n",
    "raw_C.equals(raw_Java)"
   ]
  },
  {
   "cell_type": "markdown",
   "metadata": {},
   "source": [
    "Now let's put the raw data into the structure we'll be using to plot the frames; with FRAME_POINTS we can divide the output into single frames."
   ]
  },
  {
   "cell_type": "code",
   "execution_count": 7,
   "metadata": {},
   "outputs": [],
   "source": [
    "start = 0\n",
    "end = FRAME_POINTS\n",
    "\n",
    "while (start != len(raw_C)):\n",
    "    frame = {\"x\": raw_C.x[start:end], \"y\": raw_C.y[start:end], \"density\": raw_C.d[start:end]}\n",
    "    C_data.append(frame)\n",
    "    start = end\n",
    "    end += FRAME_POINTS"
   ]
  },
  {
   "cell_type": "markdown",
   "metadata": {},
   "source": [
    "Amount of frames:"
   ]
  },
  {
   "cell_type": "code",
   "execution_count": 8,
   "metadata": {},
   "outputs": [
    {
     "name": "stdout",
     "output_type": "stream",
     "text": [
      "51\n"
     ]
    }
   ],
   "source": [
    "print(len(C_data))"
   ]
  },
  {
   "cell_type": "markdown",
   "metadata": {},
   "source": [
    "This number includes the initial grid state plus the n ticks of the simulation."
   ]
  },
  {
   "cell_type": "markdown",
   "metadata": {},
   "source": [
    "Points per frame:"
   ]
  },
  {
   "cell_type": "code",
   "execution_count": 9,
   "metadata": {},
   "outputs": [
    {
     "name": "stdout",
     "output_type": "stream",
     "text": [
      "6724\n"
     ]
    }
   ],
   "source": [
    "print(len(C_data[0]['x']))"
   ]
  },
  {
   "cell_type": "code",
   "execution_count": 10,
   "metadata": {},
   "outputs": [
    {
     "data": {
      "image/png": "[encoded data removed]",
      "text/plain": [
       "<Figure size 720x720 with 1 Axes>"
      ]
     },
     "metadata": {
      "needs_background": "light"
     },
     "output_type": "display_data"
    },
    {
     "name": "stderr",
     "output_type": "stream",
     "text": [
      "MovieWriter ffmpeg unavailable; using Pillow instead.\n"
     ]
    },
    {
     "data": {
      "text/plain": [
       "\"\\n# NOT-SO-GOOD VERSION\\nnumpoints = 6724\\npoints = [data[0]['x'], data[0]['y']]\\ncolors = data[0]['density']\\ncamera = Camera(plt.figure())\\nfor i in range(len(data)):\\n    points = [data[i]['x'], data[i]['y']]\\n    colors = data[i]['density']\\n    plt.scatter(*points, c=colors, s=100)\\n    camera.snap()\\nanim = camera.animate(blit=True)\\nanim.save('scatter.gif')\\n\""
      ]
     },
     "execution_count": 10,
     "metadata": {},
     "output_type": "execute_result"
    }
   ],
   "source": [
    "'''\n",
    "# SEQUENTIAL PLOT\n",
    "for i in range(len(data)):\n",
    "    fig, ax = plt.subplots(figsize=(10, 10))\n",
    "\n",
    "    ax.scatter(data[i]['x'], data[i]['y'], c=data[i]['density'])\n",
    "    ax.set_aspect(1)\n",
    "\n",
    "    plt.show()\n",
    "'''\n",
    "\n",
    "# BETTER VERSION SO FAR\n",
    "def main():\n",
    "    numframes = 51   # len(data)\n",
    "    numpoints = 6724\n",
    "    color_data = C_data[0]['density']  #np.random.random((numframes, numpoints))  # THIS INSTEAD DOES SOMETHING SIMILAR\n",
    "    x, y, c = C_data[0]['x'], C_data[0]['y'], C_data[0]['density']\n",
    "\n",
    "    fig = plt.figure(figsize=(10, 10))\n",
    "    scat = plt.scatter(x, y, c=c, s=100)\n",
    "\n",
    "    ani = animation.FuncAnimation(fig, update_plot, frames=range(numframes),\n",
    "                                  fargs=(color_data, scat))\n",
    "    plt.show()\n",
    "    ani.save('animation.gif')\n",
    "\n",
    "def update_plot(i, custom_data, scat):\n",
    "    scat.set_offsets(np.c_[C_data[i]['x'], C_data[i]['y']])\n",
    "    scat.set_array(C_data[i]['density'])\n",
    "    return scat,\n",
    "\n",
    "main()\n",
    "\n",
    "\n",
    "'''\n",
    "# NOT-SO-GOOD VERSION\n",
    "numpoints = 6724\n",
    "points = [data[0]['x'], data[0]['y']]\n",
    "colors = data[0]['density']\n",
    "camera = Camera(plt.figure())\n",
    "for i in range(len(data)):\n",
    "    points = [data[i]['x'], data[i]['y']]\n",
    "    colors = data[i]['density']\n",
    "    plt.scatter(*points, c=colors, s=100)\n",
    "    camera.snap()\n",
    "anim = camera.animate(blit=True)\n",
    "anim.save('scatter.gif')\n",
    "'''"
   ]
  }
 ],
 "metadata": {
  "kernelspec": {
   "display_name": "Python 3",
   "language": "python",
   "name": "python3"
  },
  "language_info": {
   "codemirror_mode": {
    "name": "ipython",
    "version": 3
   },
   "file_extension": ".py",
   "mimetype": "text/x-python",
   "name": "python",
   "nbconvert_exporter": "python",
   "pygments_lexer": "ipython3",
   "version": "3.8.10"
  }
 },
 "nbformat": 4,
 "nbformat_minor": 2
}
