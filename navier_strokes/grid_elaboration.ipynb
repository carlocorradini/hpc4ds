{
 "cells": [
  {
   "cell_type": "markdown",
   "metadata": {},
   "source": [
    "Notebook for elaboration of grid frames and comparison of Java and C results. First we may want to import the libraries for data manipulation."
   ]
  },
  {
   "cell_type": "code",
   "execution_count": 1,
   "metadata": {},
   "outputs": [],
   "source": [
    "import pandas as pd\n",
    "import math\n",
    "\n",
    "# Imports for the first implementation of the gif\n",
    "import numpy as np\n",
    "import matplotlib.pyplot as plt\n",
    "import matplotlib.animation as animation\n",
    "\n",
    "# Imports for the second implementation of the gif\n",
    "#from matplotlib import cm\n",
    "#from celluloid import Camera\n",
    "#import sys\n",
    "#import seaborn as sns"
   ]
  },
  {
   "cell_type": "markdown",
   "metadata": {},
   "source": [
    "And define the Java and C output.txt paths."
   ]
  },
  {
   "cell_type": "code",
   "execution_count": 2,
   "metadata": {},
   "outputs": [],
   "source": [
    "JAVA_OUT_PATH = './ns_java/output.txt'\n",
    "C_OUT_PATH = './src/output.txt'"
   ]
  },
  {
   "cell_type": "markdown",
   "metadata": {},
   "source": [
    "Then we're going to define the amount of points per frame, previously defined in the C program, and read with Pandas the csv output."
   ]
  },
  {
   "cell_type": "code",
   "execution_count": 3,
   "metadata": {},
   "outputs": [],
   "source": [
    "SQUARE_BOUNDS = 102\n",
    "FRAME_POINTS = 10404\n",
    "\n",
    "raw_C = []\n",
    "C_data = []\n",
    "raw_C = pd.read_csv(C_OUT_PATH, names=['x', 'y', 'd'])"
   ]
  },
  {
   "cell_type": "markdown",
   "metadata": {},
   "source": [
    "Size of raw output.txt:"
   ]
  },
  {
   "cell_type": "code",
   "execution_count": 4,
   "metadata": {},
   "outputs": [
    {
     "name": "stdout",
     "output_type": "stream",
     "text": [
      "530604\n"
     ]
    }
   ],
   "source": [
    "print(len(raw_C))"
   ]
  },
  {
   "cell_type": "markdown",
   "metadata": {},
   "source": [
    "For consistency, we're also picking up the Java application output and checking whether it corresponds to the C one. This has to be done only if parameters were equal between the simulations."
   ]
  },
  {
   "cell_type": "code",
   "execution_count": 6,
   "metadata": {},
   "outputs": [
    {
     "name": "stdout",
     "output_type": "stream",
     "text": [
      "ERRORE\n",
      "C index:  6161\n",
      "Java index:  6161\n",
      "x     41\n",
      "y     60\n",
      "d    255\n",
      "Name: 6161, dtype: object\n",
      "x    41\n",
      "y    60\n",
      "d     0\n",
      "Name: 6161, dtype: int64\n",
      "\n",
      "\n",
      "ERRORE\n",
      "C index:  8277\n",
      "Java index:  8277\n",
      "x     15\n",
      "y     81\n",
      "d    255\n",
      "Name: 8277, dtype: object\n",
      "x    15\n",
      "y    81\n",
      "d     0\n",
      "Name: 8277, dtype: int64\n",
      "\n",
      "\n",
      "ERRORE\n",
      "C index:  8327\n",
      "Java index:  8327\n",
      "x     65\n",
      "y     81\n",
      "d    255\n",
      "Name: 8327, dtype: object\n",
      "x    65\n",
      "y    81\n",
      "d     0\n",
      "Name: 8327, dtype: int64\n",
      "\n",
      "\n",
      "          d      \n",
      "       self other\n",
      "6161    255   0.0\n",
      "8277    255   0.0\n",
      "8327    255   0.0\n",
      "10730     0  23.0\n",
      "10833     0  23.0\n",
      "...     ...   ...\n",
      "530418    0  30.0\n",
      "530419    0  11.0\n",
      "530520    0  48.0\n",
      "530521    0  46.0\n",
      "530522    0   5.0\n",
      "\n",
      "[26356 rows x 2 columns]\n"
     ]
    },
    {
     "data": {
      "text/plain": [
       "False"
      ]
     },
     "execution_count": 6,
     "metadata": {},
     "output_type": "execute_result"
    }
   ],
   "source": [
    "EQUAL_PARAMETERS = True\n",
    "raw_Java = []\n",
    "\n",
    "if EQUAL_PARAMETERS:\n",
    "    raw_Java = pd.read_csv(JAVA_OUT_PATH, names=['x', 'y', 'd'])\n",
    "\n",
    "# Now let's do the comparison\n",
    "start = 0\n",
    "end = FRAME_POINTS\n",
    "i = 0\n",
    "\n",
    "tmp = pd.DataFrame(columns=['x', 'y', 'd'])\n",
    "\n",
    "# Let's sort the C output file and save it in tmp\n",
    "while (start != len(raw_C)):\n",
    "    \n",
    "    # Take a copy of the first frame\n",
    "    chunk = raw_C.loc[start:(end-1)].copy()\n",
    "    \n",
    "    # Sort it first along the y column and then along the x one\n",
    "    chunk = chunk.sort_values(['y', 'x'], ascending=[True, True])\n",
    "    \n",
    "    # Append it to the temporary dataframe\n",
    "    tmp = tmp.append(chunk, ignore_index = True)\n",
    "   \n",
    "    start = end\n",
    "    end += FRAME_POINTS\n",
    "\n",
    "tmp = tmp.reset_index(drop=True)\n",
    "\n",
    "start = 0\n",
    "end = FRAME_POINTS\n",
    "\n",
    "# Control done for the first frame to ensure correctness between Java and C application - SLOW!!\n",
    "while (i != FRAME_POINTS):\n",
    "    \n",
    "    java_x = tmp.x[i]\n",
    "    java_y = tmp.y[i]\n",
    "    \n",
    "    # This call will take a while\n",
    "    #java_idx = raw_Java.loc[(raw_Java['x'] == java_x) & (raw_Java['y'] == java_y) & (start <= raw_Java.index) & (raw_Java.index < end)].index[0]\n",
    "    java_idx = i\n",
    "    \n",
    "    if not (raw_Java.d[java_idx] == tmp.d[i]):\n",
    "        print(\"ERRORE\")\n",
    "        print(\"C index: \", i)\n",
    "        print(\"Java index: \", java_idx)\n",
    "        print(tmp.loc[i])\n",
    "        print(raw_Java.loc[java_idx])\n",
    "        print('\\n')\n",
    "        \n",
    "    i += 1\n",
    "\n",
    "# There should be a print only in case of errors.\n",
    "\n",
    "# This shows the differencies(if any) between the two dataframes\n",
    "print(tmp.compare(raw_Java))\n",
    "\n",
    "# True if they're equal\n",
    "tmp.equals(raw_Java)"
   ]
  }
 ],
 "metadata": {
  "kernelspec": {
   "display_name": "Python 3",
   "language": "python",
   "name": "python3"
  },
  "language_info": {
   "codemirror_mode": {
    "name": "ipython",
    "version": 3
   },
   "file_extension": ".py",
   "mimetype": "text/x-python",
   "name": "python",
   "nbconvert_exporter": "python",
   "pygments_lexer": "ipython3",
   "version": "3.8.10"
  }
 },
 "nbformat": 4,
 "nbformat_minor": 2
}
