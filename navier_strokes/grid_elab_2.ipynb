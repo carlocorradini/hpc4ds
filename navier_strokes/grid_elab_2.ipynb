{
 "cells": [
  {
   "cell_type": "markdown",
   "metadata": {},
   "source": [
    "Notebook for elaboration of grid frames and comparison of C results among optimizations. First we may want to import the libraries for data manipulation."
   ]
  },
  {
   "cell_type": "code",
   "execution_count": 1,
   "metadata": {},
   "outputs": [],
   "source": [
    "import os\n",
    "import json\n",
    "import pandas as pd\n",
    "import math\n",
    "\n",
    "# Imports for the implementation of the gif\n",
    "import numpy as np\n",
    "import matplotlib.pyplot as plt\n",
    "import matplotlib.animation as animation"
   ]
  },
  {
   "cell_type": "markdown",
   "metadata": {},
   "source": [
    "And define the C results paths."
   ]
  },
  {
   "cell_type": "code",
   "execution_count": 2,
   "metadata": {},
   "outputs": [],
   "source": [
    "BASE_RESULTS = './hpc/results/'"
   ]
  },
  {
   "cell_type": "markdown",
   "metadata": {},
   "source": [
    "Let's now get the files inside the base folder and list them"
   ]
  },
  {
   "cell_type": "code",
   "execution_count": 3,
   "metadata": {},
   "outputs": [
    {
     "name": "stdout",
     "output_type": "stream",
     "text": [
      "['simulation_0_1.json', 'simulation_2_3.json', '.gitkeep', 'simulation_3_4.json', 'simulation_1_2.json']\n"
     ]
    }
   ],
   "source": [
    "files = os.listdir(BASE_RESULTS)\n",
    "print(files)"
   ]
  },
  {
   "cell_type": "markdown",
   "metadata": {},
   "source": [
    "And remove the .gitkeep"
   ]
  },
  {
   "cell_type": "code",
   "execution_count": 4,
   "metadata": {},
   "outputs": [
    {
     "name": "stdout",
     "output_type": "stream",
     "text": [
      "['simulation_0_1.json', 'simulation_2_3.json', 'simulation_3_4.json', 'simulation_1_2.json']\n"
     ]
    }
   ],
   "source": [
    "for entry in files:\n",
    "    if (entry == '.gitkeep'):\n",
    "        files.remove(entry)\n",
    "\n",
    "print(files)"
   ]
  },
  {
   "cell_type": "markdown",
   "metadata": {},
   "source": [
    "Amount of simulations that were performed:"
   ]
  },
  {
   "cell_type": "code",
   "execution_count": 5,
   "metadata": {},
   "outputs": [
    {
     "data": {
      "text/plain": [
       "4"
      ]
     },
     "execution_count": 5,
     "metadata": {},
     "output_type": "execute_result"
    }
   ],
   "source": [
    "len(files)"
   ]
  },
  {
   "cell_type": "markdown",
   "metadata": {},
   "source": [
    "For the moment we're considering only the first simulation"
   ]
  },
  {
   "cell_type": "code",
   "execution_count": 12,
   "metadata": {},
   "outputs": [
    {
     "name": "stdout",
     "output_type": "stream",
     "text": [
      "./hpc/results/simulation_1_2.json\n"
     ]
    }
   ],
   "source": [
    "sim = str(BASE_RESULTS+files[3])\n",
    "file = json.load(open(sim))\n",
    "\n",
    "print(sim)\n",
    "\n",
    "meta = file[\"metadata\"]\n",
    "data = pd.DataFrame(file[\"snapshots\"])"
   ]
  },
  {
   "cell_type": "markdown",
   "metadata": {},
   "source": [
    "Metadata structure:"
   ]
  },
  {
   "cell_type": "code",
   "execution_count": 36,
   "metadata": {},
   "outputs": [
    {
     "name": "stdout",
     "output_type": "stream",
     "text": [
      "{\n",
      "    \"time_step\": 0.01,\n",
      "    \"ticks\": 1,\n",
      "    \"world\": {\n",
      "        \"width\": 10,\n",
      "        \"height\": 10,\n",
      "        \"width_bounds\": 12,\n",
      "        \"height_bounds\": 12\n",
      "    },\n",
      "    \"fluid\": {\n",
      "        \"viscosity\": 0.0001,\n",
      "        \"density\": 10,\n",
      "        \"diffusion\": 0.0001\n",
      "    }\n",
      "}\n"
     ]
    }
   ],
   "source": [
    "print(json.dumps(meta, indent=4))"
   ]
  },
  {
   "cell_type": "markdown",
   "metadata": {},
   "source": [
    "Snapshots amount and structure:"
   ]
  },
  {
   "cell_type": "code",
   "execution_count": 37,
   "metadata": {},
   "outputs": [
    {
     "name": "stdout",
     "output_type": "stream",
     "text": [
      "[\n",
      "  {\n",
      "    \"x\": 0,\n",
      "    \"y\": 0,\n",
      "    \"d\": 0,\n",
      "    \"u\": 0,\n",
      "    \"v\": 0\n",
      "  },\n",
      "  {\n",
      "    \"x\": 1,\n",
      "    \"y\": 0,\n",
      "    \"d\": 0,\n",
      "    \"u\": 0,\n",
      "    \"v\": 0\n",
      "  }\n",
      "]\n"
     ]
    }
   ],
   "source": [
    " \n",
    "print(json.dumps(file[\"snapshots\"][0][:2], indent=2))"
   ]
  },
  {
   "cell_type": "markdown",
   "metadata": {},
   "source": [
    "Let's now get some info from the metadata"
   ]
  },
  {
   "cell_type": "code",
   "execution_count": 28,
   "metadata": {},
   "outputs": [],
   "source": [
    "#TICKS = meta\n",
    "#SQUARE_BOUNDS = meta.\n",
    "#print(meta[])\n",
    "FRAME_POINTS = 10404"
   ]
  },
  {
   "cell_type": "markdown",
   "metadata": {},
   "source": [
    "For consistency, we're also picking up the Java application output and checking whether it corresponds to the C one. This has to be done only if parameters were equal between the simulations."
   ]
  },
  {
   "cell_type": "code",
   "execution_count": null,
   "metadata": {},
   "outputs": [],
   "source": [
    "EQUAL_PARAMETERS = True\n",
    "raw_Java = []\n",
    "\n",
    "if EQUAL_PARAMETERS:\n",
    "    raw_Java = pd.read_csv(JAVA_OUT_PATH, names=['x', 'y', 'd'])\n",
    "\n",
    "# Now let's do the comparison\n",
    "start = 0\n",
    "end = FRAME_POINTS\n",
    "i = 0\n",
    "\n",
    "tmp = pd.DataFrame(columns=['x', 'y', 'd'])\n",
    "\n",
    "# Let's sort the C output file and save it in tmp\n",
    "while (start != len(raw_C)):\n",
    "    \n",
    "    # Take a copy of the first frame\n",
    "    chunk = raw_C.loc[start:(end-1)].copy()\n",
    "    \n",
    "    # Sort it first along the y column and then along the x one\n",
    "    chunk = chunk.sort_values(['y', 'x'], ascending=[True, True])\n",
    "    \n",
    "    # Append it to the temporary dataframe\n",
    "    tmp = tmp.append(chunk, ignore_index = True)\n",
    "   \n",
    "    start = end\n",
    "    end += FRAME_POINTS\n",
    "\n",
    "tmp = tmp.reset_index(drop=True)\n",
    "\n",
    "start = 0\n",
    "end = FRAME_POINTS\n",
    "\n",
    "# Control done for the first frame to ensure correctness between Java and C application - SLOW!!\n",
    "while (i != FRAME_POINTS):\n",
    "    \n",
    "    java_x = tmp.x[i]\n",
    "    java_y = tmp.y[i]\n",
    "    \n",
    "    # This call will take a while\n",
    "    #java_idx = raw_Java.loc[(raw_Java['x'] == java_x) & (raw_Java['y'] == java_y) & (start <= raw_Java.index) & (raw_Java.index < end)].index[0]\n",
    "    java_idx = i\n",
    "    \n",
    "    if not (raw_Java.d[java_idx] == tmp.d[i]):\n",
    "        print(\"ERRORE\")\n",
    "        print(\"C index: \", i)\n",
    "        print(\"Java index: \", java_idx)\n",
    "        print(tmp.loc[i])\n",
    "        print(raw_Java.loc[java_idx])\n",
    "        print('\\n')\n",
    "        \n",
    "    i += 1\n",
    "\n",
    "# There should be a print only in case of errors.\n",
    "\n",
    "# This shows the differencies(if any) between the two dataframes\n",
    "print(tmp.compare(raw_Java))\n",
    "\n",
    "# True if they're equal\n",
    "tmp.equals(raw_Java)"
   ]
  },
  {
   "cell_type": "markdown",
   "metadata": {},
   "source": [
    "Now let's put the raw data into the structure we'll be using to plot the frames; with FRAME_POINTS we can divide the output into single frames."
   ]
  },
  {
   "cell_type": "code",
   "execution_count": null,
   "metadata": {},
   "outputs": [],
   "source": [
    "start = 0\n",
    "end = FRAME_POINTS\n",
    "\n",
    "while (start != len(raw_C)):\n",
    "    frame = {\"x\": raw_C.x[start:end], \"y\": raw_C.y[start:end], \"density\": raw_C.d[start:end]}\n",
    "    C_data.append(frame)\n",
    "    start = end\n",
    "    end += FRAME_POINTS"
   ]
  },
  {
   "cell_type": "markdown",
   "metadata": {},
   "source": [
    "Amount of frames:"
   ]
  },
  {
   "cell_type": "code",
   "execution_count": null,
   "metadata": {},
   "outputs": [],
   "source": [
    "print(len(C_data))"
   ]
  },
  {
   "cell_type": "markdown",
   "metadata": {},
   "source": [
    "This number includes the initial grid state plus the n ticks of the simulation."
   ]
  },
  {
   "cell_type": "markdown",
   "metadata": {},
   "source": [
    "Points per frame:"
   ]
  },
  {
   "cell_type": "code",
   "execution_count": null,
   "metadata": {},
   "outputs": [],
   "source": [
    "print(len(C_data[0]['x']))"
   ]
  },
  {
   "cell_type": "code",
   "execution_count": null,
   "metadata": {},
   "outputs": [],
   "source": [
    "def main():\n",
    "    numframes = 51   # len(data)\n",
    "    numpoints = 6724\n",
    "    color_data = C_data[0]['density']  #np.random.random((numframes, numpoints))  # THIS INSTEAD DOES SOMETHING SIMILAR\n",
    "    x, y, c = C_data[0]['x'], C_data[0]['y'], C_data[0]['density']\n",
    "\n",
    "    fig = plt.figure(figsize=(10, 10))\n",
    "    scat = plt.scatter(x, y, c=c, s=100)\n",
    "\n",
    "    ani = animation.FuncAnimation(fig, update_plot, frames=range(numframes),\n",
    "                                  fargs=(color_data, scat))\n",
    "    plt.show()\n",
    "    ani.save('animation.gif')\n",
    "\n",
    "def update_plot(i, custom_data, scat):\n",
    "    scat.set_offsets(np.c_[C_data[i]['x'], C_data[i]['y']])\n",
    "    scat.set_array(C_data[i]['density'])\n",
    "    return scat,\n",
    "\n",
    "main()"
   ]
  }
 ],
 "metadata": {
  "kernelspec": {
   "display_name": "Python 3",
   "language": "python",
   "name": "python3"
  },
  "language_info": {
   "codemirror_mode": {
    "name": "ipython",
    "version": 3
   },
   "file_extension": ".py",
   "mimetype": "text/x-python",
   "name": "python",
   "nbconvert_exporter": "python",
   "pygments_lexer": "ipython3",
   "version": "3.8.8"
  }
 },
 "nbformat": 4,
 "nbformat_minor": 2
}
